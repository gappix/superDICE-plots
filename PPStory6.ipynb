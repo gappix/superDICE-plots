{
 "cells": [
  {
   "cell_type": "markdown",
   "metadata": {},
   "source": [
    "# New results:  PPStory6"
   ]
  },
  {
   "cell_type": "code",
   "execution_count": 1,
   "metadata": {
    "scrolled": true
   },
   "outputs": [
    {
     "name": "stderr",
     "output_type": "stream",
     "text": [
      "Warning message:\n",
      "\"package 'here' was built under R version 3.6.2\"Warning message:\n",
      "\"package 'dplyr' was built under R version 3.6.2\"Warning message:\n",
      "\"package 'data.table' was built under R version 3.6.2\"Warning message:\n",
      "\"package 'gdxtools' was built under R version 3.6.3\"Warning message:\n",
      "\"package 'purrr' was built under R version 3.6.2\"Warning message:\n",
      "\"package 'stringr' was built under R version 3.6.2\"Warning message:\n",
      "\"package 'crayon' was built under R version 3.6.2\"Warning message:\n",
      "\"package 'tibble' was built under R version 3.6.2\"Warning message:\n",
      "\"package 'ggplot2' was built under R version 3.6.2\"Warning message:\n",
      "\"package 'ggspatial' was built under R version 3.6.2\"Warning message:\n",
      "\"package 'ggrepel' was built under R version 3.6.2\"Warning message:\n",
      "\"package 'raster' was built under R version 3.6.2\"Warning message:\n",
      "\"package 'sp' was built under R version 3.6.3\"Warning message:\n",
      "\"package 'sf' was built under R version 3.6.2\"Warning message:\n",
      "\"package 'conflicted' was built under R version 3.6.2\"[conflicted] Will prefer dplyr::filter over any other package\n",
      "[conflicted] Will prefer dplyr::select over any other package\n",
      "Warning message:\n",
      "\"package 'latex2exp' was built under R version 3.6.2\"Warning message:\n",
      "\"package 'ggpubr' was built under R version 3.6.2\"Warning message:\n",
      "\"package 'magrittr' was built under R version 3.6.2\"Warning message:\n",
      "\"package 'wesanderson' was built under R version 3.6.2\""
     ]
    }
   ],
   "source": [
    "## load libraries and data\n",
    "source(\"RICEx_datamng/RICEx_50_experiments_data_central_hub.R\")\n",
    "source(\"RICEx_utils/RICEx_10_regions_mappings.R\")\n",
    "invisible(source(\"RICEx_plots/RICEx_plots.R\"))\n",
    "\n",
    "# Latest results\n",
    "PPstory6 = list()\n",
    "PPstory6 = experiments_load_as_list(PPstory6,\"PPstory6\")\n",
    "\n",
    "# shortcuts\n",
    "PP6 = PPstory6$v1x00$OPTIM$ed57\n",
    "\n",
    "## Additional data needed for plotting\n",
    "source(\"OTHER_datamng/HIST_emissions_data.R\")\n",
    "# DICE values \n",
    "source(\"OTHER_datamng/DICE_results_management.R\")\n",
    "# (available in \"DICEresults\" list)\n",
    "\n",
    "\n",
    "\n",
    "## Add today values to historical for continuity\n",
    "E_hist_PRIMAP_world_y = rbind(E_hist_PRIMAP_world_y, data.frame(year=2015, value= 35.04)) \n",
    "\n",
    "\n"
   ]
  },
  {
   "cell_type": "code",
   "execution_count": 3,
   "metadata": {},
   "outputs": [
    {
     "data": {
      "text/plain": [
       "R version 3.6.1 (2019-07-05)\n",
       "Platform: x86_64-w64-mingw32/x64 (64-bit)\n",
       "Running under: Windows 10 x64 (build 18363)\n",
       "\n",
       "Matrix products: default\n",
       "\n",
       "locale:\n",
       "[1] LC_COLLATE=Italian_Italy.1252  LC_CTYPE=Italian_Italy.1252   \n",
       "[3] LC_MONETARY=Italian_Italy.1252 LC_NUMERIC=C                  \n",
       "[5] LC_TIME=Italian_Italy.1252    \n",
       "\n",
       "attached base packages:\n",
       "[1] stats     graphics  grDevices utils     datasets  methods   base     \n",
       "\n",
       "other attached packages:\n",
       " [1] wesanderson_0.3.6 ggpubr_0.2.5      magrittr_1.5      latex2exp_0.4.0  \n",
       " [5] conflicted_1.0.4  sf_0.8-1          raster_3.0-12     sp_1.4-1         \n",
       " [9] ggrepel_0.8.1     ggspatial_1.0.3   ggplot2_3.2.1     tibble_2.1.3     \n",
       "[13] crayon_1.3.4      stringr_1.4.0     purrr_0.3.3       gdxtools_0.6.0   \n",
       "[17] data.table_1.12.8 dplyr_0.8.4       here_0.1         \n",
       "\n",
       "loaded via a namespace (and not attached):\n",
       " [1] pbdZMQ_0.3-3       tidyselect_1.0.0   repr_0.19.2        lattice_0.20-38   \n",
       " [5] colorspace_1.4-1   vctrs_0.2.3        htmltools_0.4.0    base64enc_0.1-3   \n",
       " [9] rlang_0.4.5        e1071_1.7-3        pillar_1.4.3       glue_1.3.1        \n",
       "[13] withr_2.1.2        DBI_1.1.0          uuid_0.1-2         lifecycle_0.1.0   \n",
       "[17] munsell_0.5.0      ggsignif_0.6.0     gtable_0.3.0       codetools_0.2-16  \n",
       "[21] evaluate_0.14      memoise_1.1.0      class_7.3-15       IRdisplay_0.7.0   \n",
       "[25] Rcpp_1.0.3         KernSmooth_2.23-15 scales_1.1.0       backports_1.1.5   \n",
       "[29] classInt_0.4-2     IRkernel_0.8.15    jsonlite_1.6.1     digest_0.6.25     \n",
       "[33] stringi_1.4.6      grid_3.6.1         rprojroot_1.3-2    tools_3.6.1       \n",
       "[37] lazyeval_0.2.2     pkgconfig_2.0.3    assertthat_0.2.1   R6_2.4.1          \n",
       "[41] units_0.6-5        compiler_3.6.1    "
      ]
     },
     "metadata": {},
     "output_type": "display_data"
    }
   ],
   "source": [
    "sessionInfo()"
   ]
  }
 ],
 "metadata": {
  "kernelspec": {
   "display_name": "R",
   "language": "R",
   "name": "ir"
  },
  "language_info": {
   "codemirror_mode": "r",
   "file_extension": ".r",
   "mimetype": "text/x-r-source",
   "name": "R",
   "pygments_lexer": "r",
   "version": "3.6.1"
  }
 },
 "nbformat": 4,
 "nbformat_minor": 2
}
